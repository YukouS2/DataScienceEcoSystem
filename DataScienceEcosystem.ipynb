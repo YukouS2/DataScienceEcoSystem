{
 "cells": [
  {
   "cell_type": "markdown",
   "id": "4ab381fa-a348-4ede-ad51-20aea1cfe8a2",
   "metadata": {},
   "source": [
    "# Data Science Tools and Ecosystem"
   ]
  },
  {
   "cell_type": "code",
   "execution_count": null,
   "id": "c5a79275-9f3f-4f83-93d4-58c68726c5b3",
   "metadata": {},
   "outputs": [],
   "source": []
  },
  {
   "cell_type": "markdown",
   "id": "16847444-1ba1-40f1-a883-0342c119a195",
   "metadata": {},
   "source": [
    "In this notebook, data science tools and ecosystems are summarized"
   ]
  },
  {
   "cell_type": "markdown",
   "id": "57438b95-b9b0-48de-ae07-1993d5654d06",
   "metadata": {},
   "source": [
    "Some of the popular data science languages used are:"
   ]
  },
  {
   "cell_type": "markdown",
   "id": "16ead4ed-ab54-41ef-8e32-b3f09111914e",
   "metadata": {},
   "source": [
    "1. Python\n",
    "2. R\n",
    "3. Java"
   ]
  },
  {
   "cell_type": "markdown",
   "id": "b733d6af-9191-494d-ae52-86fedf698e18",
   "metadata": {},
   "source": [
    "Some of the commonly used libraries used by data scientists are:"
   ]
  },
  {
   "cell_type": "markdown",
   "id": "0818874c-0033-4e70-ab8d-e3e1efdf76aa",
   "metadata": {},
   "source": [
    "1. ggplot\n",
    "2. Numpy\n",
    "3. Scipy\n"
   ]
  },
  {
   "cell_type": "markdown",
   "id": "96214451-105a-4c17-92df-6214f8f79cad",
   "metadata": {},
   "source": [
    "|Data Science Tools|\n",
    "|------------------|\n",
    "| Data management|\n",
    "|Data Integration |\n",
    "|Data Analysis|\n",
    "| Data visualisation|\n",
    "|Machine learning|\n",
    "|\n"
   ]
  },
  {
   "cell_type": "code",
   "execution_count": null,
   "id": "44455862-8788-4851-9164-3eb9bb49cbb3",
   "metadata": {},
   "outputs": [],
   "source": []
  },
  {
   "cell_type": "markdown",
   "id": "031f0a9b-6a50-4dd6-b8f5-d29c0591ec52",
   "metadata": {},
   "source": [
    "#H3 Below are a few examples of evaluating arithmetic expression in python\n",
    "# Adding two numbers\n",
    "result = 5 + 3\n",
    "print(result)  # Output: 8\n",
    "# Subtracting two numbers\n",
    "result = 10 - 4\n",
    "print(result)  # Output: 6\n",
    "# Multiplying two numbers\n",
    "result = 7 * 6\n",
    "print(result)  # Output: 42\n"
   ]
  },
  {
   "cell_type": "code",
   "execution_count": 1,
   "id": "3c0bc9ef-3e2e-4021-9216-bd73f99f41f2",
   "metadata": {
    "tags": []
   },
   "outputs": [
    {
     "name": "stdout",
     "output_type": "stream",
     "text": [
      "17\n"
     ]
    }
   ],
   "source": [
    "# This is a simple arithmetic expression to multiply then add integer\n",
    "Result = (3*4)+5\n",
    "print(Result)"
   ]
  },
  {
   "cell_type": "code",
   "execution_count": 2,
   "id": "564e8b79-1733-4af4-bafd-8b0754ad8719",
   "metadata": {
    "tags": []
   },
   "outputs": [
    {
     "name": "stdout",
     "output_type": "stream",
     "text": [
      "3.3333333333333335 hours\n"
     ]
    }
   ],
   "source": [
    "#This will convert 200minutes to hours by dividing by 60\n",
    "Result = 200/60\n",
    "print(Result, \"hours\")"
   ]
  },
  {
   "cell_type": "code",
   "execution_count": 3,
   "id": "3e7d1544-6f73-4daf-b1a3-998851a20483",
   "metadata": {
    "tags": []
   },
   "outputs": [
    {
     "ename": "SyntaxError",
     "evalue": "invalid syntax (1519442464.py, line 1)",
     "output_type": "error",
     "traceback": [
      "\u001b[0;36m  File \u001b[0;32m\"/tmp/ipykernel_358/1519442464.py\"\u001b[0;36m, line \u001b[0;32m1\u001b[0m\n\u001b[0;31m    **Objectives**\u001b[0m\n\u001b[0m     ^\u001b[0m\n\u001b[0;31mSyntaxError\u001b[0m\u001b[0;31m:\u001b[0m invalid syntax\n"
     ]
    }
   ],
   "source": [
    "**Objectives**\n",
    "* Python\n",
    "* R\n",
    "* Java\n",
    "* SQL"
   ]
  },
  {
   "cell_type": "code",
   "execution_count": 4,
   "id": "0b19a13d-c1f9-440b-b4ed-9016a2121579",
   "metadata": {
    "tags": []
   },
   "outputs": [
    {
     "ename": "SyntaxError",
     "evalue": "invalid syntax (2934435998.py, line 1)",
     "output_type": "error",
     "traceback": [
      "\u001b[0;36m  File \u001b[0;32m\"/tmp/ipykernel_358/2934435998.py\"\u001b[0;36m, line \u001b[0;32m1\u001b[0m\n\u001b[0;31m    **Objectives**\u001b[0m\n\u001b[0m     ^\u001b[0m\n\u001b[0;31mSyntaxError\u001b[0m\u001b[0;31m:\u001b[0m invalid syntax\n"
     ]
    }
   ],
   "source": [
    "_Objectives_\n",
    "* Python\n",
    "* R\n",
    "* Java\n",
    "* SQL"
   ]
  },
  {
   "cell_type": "code",
   "execution_count": 5,
   "id": "7d6d300f-aa15-4569-b7c3-dc0e3cfa15b2",
   "metadata": {
    "tags": []
   },
   "outputs": [
    {
     "ename": "SyntaxError",
     "evalue": "can't use starred expression here (2711105431.py, line 5)",
     "output_type": "error",
     "traceback": [
      "\u001b[0;36m  File \u001b[0;32m\"/tmp/ipykernel_358/2711105431.py\"\u001b[0;36m, line \u001b[0;32m5\u001b[0m\n\u001b[0;31m    * SQL\u001b[0m\n\u001b[0m         \n^\u001b[0m\n\u001b[0;31mSyntaxError\u001b[0m\u001b[0;31m:\u001b[0m can't use starred expression here\n"
     ]
    }
   ],
   "source": [
    "_Objectives_\n",
    "* Python\n",
    "* R\n",
    "* Java\n",
    "* SQL"
   ]
  },
  {
   "cell_type": "markdown",
   "id": "e6be3c06-6342-403b-a63d-8dc7bd6b8d4b",
   "metadata": {},
   "source": [
    "_Objectives_\n",
    "* Python\n",
    "* R\n",
    "* Java\n",
    "* SQL"
   ]
  },
  {
   "cell_type": "markdown",
   "id": "dccf0754-b1b8-43b1-87c3-d71fbd2022b9",
   "metadata": {},
   "source": [
    "H2 Author\n",
    "Yukou Sakai"
   ]
  },
  {
   "cell_type": "code",
   "execution_count": null,
   "id": "c925ad1d-7514-469a-a1a2-827d922bdc08",
   "metadata": {},
   "outputs": [],
   "source": []
  }
 ],
 "metadata": {
  "kernelspec": {
   "display_name": "Python",
   "language": "python",
   "name": "conda-env-python-py"
  },
  "language_info": {
   "codemirror_mode": {
    "name": "ipython",
    "version": 3
   },
   "file_extension": ".py",
   "mimetype": "text/x-python",
   "name": "python",
   "nbconvert_exporter": "python",
   "pygments_lexer": "ipython3",
   "version": "3.7.12"
  }
 },
 "nbformat": 4,
 "nbformat_minor": 5
}
